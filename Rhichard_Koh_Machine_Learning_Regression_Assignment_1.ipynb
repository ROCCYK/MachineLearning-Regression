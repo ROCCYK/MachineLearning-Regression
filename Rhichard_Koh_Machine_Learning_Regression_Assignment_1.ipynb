{
  "nbformat": 4,
  "nbformat_minor": 0,
  "metadata": {
    "colab": {
      "provenance": []
    },
    "kernelspec": {
      "name": "python3",
      "display_name": "Python 3"
    },
    "language_info": {
      "name": "python"
    }
  },
  "cells": [
    {
      "cell_type": "markdown",
      "source": [
        "#Assignment #1\n",
        "##Machine Learning - Regression\n",
        "###Rhichard Koh"
      ],
      "metadata": {
        "id": "e3bJbseYC41m"
      }
    },
    {
      "cell_type": "code",
      "execution_count": null,
      "metadata": {
        "id": "Wn_TzVzAzkVL"
      },
      "outputs": [],
      "source": [
        "from sklearn.datasets import fetch_california_housing\n",
        "import pandas as pd\n",
        "\n",
        "california_housing = fetch_california_housing(as_frame=True)"
      ]
    },
    {
      "cell_type": "code",
      "source": [
        "X = california_housing.data[['MedInc', 'HouseAge', 'AveRooms', 'AveBedrms']]\n",
        "y = california_housing.target"
      ],
      "metadata": {
        "id": "5zitlgbHz4OI"
      },
      "execution_count": null,
      "outputs": []
    },
    {
      "cell_type": "code",
      "source": [
        "X = X[:1000]\n",
        "y = y[:1000]"
      ],
      "metadata": {
        "id": "KwpjYBR91HZx"
      },
      "execution_count": null,
      "outputs": []
    },
    {
      "cell_type": "code",
      "source": [
        "from sklearn.model_selection import train_test_split\n",
        "\n",
        "SEED = 42\n",
        "X_train, X_test, y_train, y_test = train_test_split(X,y, test_size=0.20,random_state=SEED)"
      ],
      "metadata": {
        "id": "WLuaW50l1IL5"
      },
      "execution_count": null,
      "outputs": []
    },
    {
      "cell_type": "code",
      "source": [
        "from sklearn.linear_model import LinearRegression\n",
        "\n",
        "reg = LinearRegression()\n",
        "reg.fit(X_train,y_train)\n",
        "\n",
        "y_pred = reg.predict(X_test)"
      ],
      "metadata": {
        "id": "oLFaD6W51ZKm"
      },
      "execution_count": null,
      "outputs": []
    },
    {
      "cell_type": "code",
      "source": [
        "from sklearn.metrics import mean_absolute_error, mean_squared_error\n",
        "\n",
        "result = pd.DataFrame({'Prediction':y_pred,'Actual':y_test})\n",
        "print(f'MAE: {mean_absolute_error(y_test,y_pred)}')\n",
        "print(f'MSE: {mean_squared_error(y_test,y_pred)}')\n",
        "print(result)\n",
        "result.to_excel('T Statistic.xlsx', sheet_name = 'New_sheet')"
      ],
      "metadata": {
        "colab": {
          "base_uri": "https://localhost:8080/"
        },
        "id": "VHWunS9O116M",
        "outputId": "983b09d0-cb40-43e6-b8a8-8588117135f8"
      },
      "execution_count": null,
      "outputs": [
        {
          "output_type": "stream",
          "name": "stdout",
          "text": [
            "MAE: 0.38687590625585877\n",
            "MSE: 0.23823690215175106\n",
            "     Prediction  Actual\n",
            "521    2.424104   3.353\n",
            "737    1.784124   1.816\n",
            "740    2.103969   1.840\n",
            "660    1.913637   1.947\n",
            "411    2.859023   3.271\n",
            "..          ...     ...\n",
            "408    3.451053   3.629\n",
            "332    1.553184   0.972\n",
            "208    1.198222   1.227\n",
            "613    2.406288   2.519\n",
            "78     0.801135   1.125\n",
            "\n",
            "[200 rows x 2 columns]\n"
          ]
        }
      ]
    },
    {
      "cell_type": "code",
      "source": [
        "import numpy as np\n",
        "from scipy import stats\n",
        "\n",
        "result['y bar'] = result['Actual'].mean()\n",
        "result['SSE'] = ((result['Prediction'] - result['Actual'])**2).sum()\n",
        "result['SSE - y bar'] = result['SSE'] - result['y bar']\n",
        "result['SSE - y hat'] = result['SSE'] - result['Prediction']\n",
        "t_statistic, p_value = stats.ttest_ind(result['SSE - y bar'], result['SSE - y hat'], alternative='two-sided')\n",
        "\n",
        "print(result)\n",
        "\n",
        "print(f't_statistic: {t_statistic}')\n",
        "print(f'p_value: {p_value}')\n",
        "\n",
        "threshold = 0.05\n",
        "\n",
        "if p_value > threshold:\n",
        "  print(f'P value is greater than {threshold} therefore we reject the alternative hyptothesis and accept the null hypothesis.')\n",
        "else:\n",
        "  print(f'P value is less than {threshold} therefore we accept the alternative hyptothesis and reject the null hypothesis.')"
      ],
      "metadata": {
        "colab": {
          "base_uri": "https://localhost:8080/"
        },
        "id": "cc8uqKo62rcw",
        "outputId": "0f306829-40ef-41ed-e005-dff5af5aac43"
      },
      "execution_count": null,
      "outputs": [
        {
          "output_type": "stream",
          "name": "stdout",
          "text": [
            "     Prediction  Actual   y bar       SSE  SSE - y bar  SSE - y hat\n",
            "521    2.424104   3.353  1.9572  47.64738     45.69018    45.223277\n",
            "737    1.784124   1.816  1.9572  47.64738     45.69018    45.863256\n",
            "740    2.103969   1.840  1.9572  47.64738     45.69018    45.543412\n",
            "660    1.913637   1.947  1.9572  47.64738     45.69018    45.733744\n",
            "411    2.859023   3.271  1.9572  47.64738     45.69018    44.788357\n",
            "..          ...     ...     ...       ...          ...          ...\n",
            "408    3.451053   3.629  1.9572  47.64738     45.69018    44.196327\n",
            "332    1.553184   0.972  1.9572  47.64738     45.69018    46.094196\n",
            "208    1.198222   1.227  1.9572  47.64738     45.69018    46.449159\n",
            "613    2.406288   2.519  1.9572  47.64738     45.69018    45.241092\n",
            "78     0.801135   1.125  1.9572  47.64738     45.69018    46.846246\n",
            "\n",
            "[200 rows x 6 columns]\n",
            "t_statistic: 2.826689779073848\n",
            "p_value: 0.00494044098572805\n",
            "P value is less than 0.05 therefore we accept the alternative hyptothesis and reject the null hypothesis.\n"
          ]
        }
      ]
    },
    {
      "cell_type": "markdown",
      "source": [
        "this means y bar and y hat are statistically different"
      ],
      "metadata": {
        "id": "h1Xih4noUAAA"
      }
    },
    {
      "cell_type": "code",
      "source": [
        "coef = reg.coef_\n",
        "intercept = reg.intercept_\n",
        "print(coef)\n",
        "print(intercept)"
      ],
      "metadata": {
        "colab": {
          "base_uri": "https://localhost:8080/"
        },
        "id": "_HGbPuqZ2Bqk",
        "outputId": "4f337184-3645-439b-f678-804bfb83ff02"
      },
      "execution_count": null,
      "outputs": [
        {
          "output_type": "stream",
          "name": "stdout",
          "text": [
            "[ 0.41960584  0.00547113 -0.06695713  0.45090694]\n",
            "0.1791415070272082\n"
          ]
        }
      ]
    },
    {
      "cell_type": "code",
      "source": [
        "ANOVA = X_test * coef"
      ],
      "metadata": {
        "id": "jM4OhbAgqxu9"
      },
      "execution_count": null,
      "outputs": []
    },
    {
      "cell_type": "code",
      "source": [
        "ANOVA"
      ],
      "metadata": {
        "colab": {
          "base_uri": "https://localhost:8080/",
          "height": 424
        },
        "id": "wmE5PRryrbA3",
        "outputId": "6ef84978-0506-4d4f-91d4-067b2906fe70"
      },
      "execution_count": null,
      "outputs": [
        {
          "output_type": "execute_result",
          "data": {
            "text/plain": [
              "       MedInc  HouseAge  AveRooms  AveBedrms\n",
              "521  1.980036  0.284499 -0.473289   0.453716\n",
              "737  1.331577  0.207903 -0.405776   0.471279\n",
              "740  1.622868  0.218845 -0.369215   0.452329\n",
              "660  1.491573  0.196961 -0.375576   0.421538\n",
              "411  2.430021  0.284499 -0.488229   0.453591\n",
              "..        ...       ...       ...        ...\n",
              "408  3.010840  0.284499 -0.497457   0.474030\n",
              "332  0.902153  0.257143 -0.226286   0.441033\n",
              "208  0.679678  0.164134 -0.291742   0.467011\n",
              "613  1.931949  0.279028 -0.446210   0.462380\n",
              "78   0.336776  0.125836 -0.359508   0.518890\n",
              "\n",
              "[200 rows x 4 columns]"
            ],
            "text/html": [
              "\n",
              "  <div id=\"df-1144c6ad-07ac-46dd-b31b-69d8e74b7df4\">\n",
              "    <div class=\"colab-df-container\">\n",
              "      <div>\n",
              "<style scoped>\n",
              "    .dataframe tbody tr th:only-of-type {\n",
              "        vertical-align: middle;\n",
              "    }\n",
              "\n",
              "    .dataframe tbody tr th {\n",
              "        vertical-align: top;\n",
              "    }\n",
              "\n",
              "    .dataframe thead th {\n",
              "        text-align: right;\n",
              "    }\n",
              "</style>\n",
              "<table border=\"1\" class=\"dataframe\">\n",
              "  <thead>\n",
              "    <tr style=\"text-align: right;\">\n",
              "      <th></th>\n",
              "      <th>MedInc</th>\n",
              "      <th>HouseAge</th>\n",
              "      <th>AveRooms</th>\n",
              "      <th>AveBedrms</th>\n",
              "    </tr>\n",
              "  </thead>\n",
              "  <tbody>\n",
              "    <tr>\n",
              "      <th>521</th>\n",
              "      <td>1.980036</td>\n",
              "      <td>0.284499</td>\n",
              "      <td>-0.473289</td>\n",
              "      <td>0.453716</td>\n",
              "    </tr>\n",
              "    <tr>\n",
              "      <th>737</th>\n",
              "      <td>1.331577</td>\n",
              "      <td>0.207903</td>\n",
              "      <td>-0.405776</td>\n",
              "      <td>0.471279</td>\n",
              "    </tr>\n",
              "    <tr>\n",
              "      <th>740</th>\n",
              "      <td>1.622868</td>\n",
              "      <td>0.218845</td>\n",
              "      <td>-0.369215</td>\n",
              "      <td>0.452329</td>\n",
              "    </tr>\n",
              "    <tr>\n",
              "      <th>660</th>\n",
              "      <td>1.491573</td>\n",
              "      <td>0.196961</td>\n",
              "      <td>-0.375576</td>\n",
              "      <td>0.421538</td>\n",
              "    </tr>\n",
              "    <tr>\n",
              "      <th>411</th>\n",
              "      <td>2.430021</td>\n",
              "      <td>0.284499</td>\n",
              "      <td>-0.488229</td>\n",
              "      <td>0.453591</td>\n",
              "    </tr>\n",
              "    <tr>\n",
              "      <th>...</th>\n",
              "      <td>...</td>\n",
              "      <td>...</td>\n",
              "      <td>...</td>\n",
              "      <td>...</td>\n",
              "    </tr>\n",
              "    <tr>\n",
              "      <th>408</th>\n",
              "      <td>3.010840</td>\n",
              "      <td>0.284499</td>\n",
              "      <td>-0.497457</td>\n",
              "      <td>0.474030</td>\n",
              "    </tr>\n",
              "    <tr>\n",
              "      <th>332</th>\n",
              "      <td>0.902153</td>\n",
              "      <td>0.257143</td>\n",
              "      <td>-0.226286</td>\n",
              "      <td>0.441033</td>\n",
              "    </tr>\n",
              "    <tr>\n",
              "      <th>208</th>\n",
              "      <td>0.679678</td>\n",
              "      <td>0.164134</td>\n",
              "      <td>-0.291742</td>\n",
              "      <td>0.467011</td>\n",
              "    </tr>\n",
              "    <tr>\n",
              "      <th>613</th>\n",
              "      <td>1.931949</td>\n",
              "      <td>0.279028</td>\n",
              "      <td>-0.446210</td>\n",
              "      <td>0.462380</td>\n",
              "    </tr>\n",
              "    <tr>\n",
              "      <th>78</th>\n",
              "      <td>0.336776</td>\n",
              "      <td>0.125836</td>\n",
              "      <td>-0.359508</td>\n",
              "      <td>0.518890</td>\n",
              "    </tr>\n",
              "  </tbody>\n",
              "</table>\n",
              "<p>200 rows × 4 columns</p>\n",
              "</div>\n",
              "      <button class=\"colab-df-convert\" onclick=\"convertToInteractive('df-1144c6ad-07ac-46dd-b31b-69d8e74b7df4')\"\n",
              "              title=\"Convert this dataframe to an interactive table.\"\n",
              "              style=\"display:none;\">\n",
              "        \n",
              "  <svg xmlns=\"http://www.w3.org/2000/svg\" height=\"24px\"viewBox=\"0 0 24 24\"\n",
              "       width=\"24px\">\n",
              "    <path d=\"M0 0h24v24H0V0z\" fill=\"none\"/>\n",
              "    <path d=\"M18.56 5.44l.94 2.06.94-2.06 2.06-.94-2.06-.94-.94-2.06-.94 2.06-2.06.94zm-11 1L8.5 8.5l.94-2.06 2.06-.94-2.06-.94L8.5 2.5l-.94 2.06-2.06.94zm10 10l.94 2.06.94-2.06 2.06-.94-2.06-.94-.94-2.06-.94 2.06-2.06.94z\"/><path d=\"M17.41 7.96l-1.37-1.37c-.4-.4-.92-.59-1.43-.59-.52 0-1.04.2-1.43.59L10.3 9.45l-7.72 7.72c-.78.78-.78 2.05 0 2.83L4 21.41c.39.39.9.59 1.41.59.51 0 1.02-.2 1.41-.59l7.78-7.78 2.81-2.81c.8-.78.8-2.07 0-2.86zM5.41 20L4 18.59l7.72-7.72 1.47 1.35L5.41 20z\"/>\n",
              "  </svg>\n",
              "      </button>\n",
              "      \n",
              "  <style>\n",
              "    .colab-df-container {\n",
              "      display:flex;\n",
              "      flex-wrap:wrap;\n",
              "      gap: 12px;\n",
              "    }\n",
              "\n",
              "    .colab-df-convert {\n",
              "      background-color: #E8F0FE;\n",
              "      border: none;\n",
              "      border-radius: 50%;\n",
              "      cursor: pointer;\n",
              "      display: none;\n",
              "      fill: #1967D2;\n",
              "      height: 32px;\n",
              "      padding: 0 0 0 0;\n",
              "      width: 32px;\n",
              "    }\n",
              "\n",
              "    .colab-df-convert:hover {\n",
              "      background-color: #E2EBFA;\n",
              "      box-shadow: 0px 1px 2px rgba(60, 64, 67, 0.3), 0px 1px 3px 1px rgba(60, 64, 67, 0.15);\n",
              "      fill: #174EA6;\n",
              "    }\n",
              "\n",
              "    [theme=dark] .colab-df-convert {\n",
              "      background-color: #3B4455;\n",
              "      fill: #D2E3FC;\n",
              "    }\n",
              "\n",
              "    [theme=dark] .colab-df-convert:hover {\n",
              "      background-color: #434B5C;\n",
              "      box-shadow: 0px 1px 3px 1px rgba(0, 0, 0, 0.15);\n",
              "      filter: drop-shadow(0px 1px 2px rgba(0, 0, 0, 0.3));\n",
              "      fill: #FFFFFF;\n",
              "    }\n",
              "  </style>\n",
              "\n",
              "      <script>\n",
              "        const buttonEl =\n",
              "          document.querySelector('#df-1144c6ad-07ac-46dd-b31b-69d8e74b7df4 button.colab-df-convert');\n",
              "        buttonEl.style.display =\n",
              "          google.colab.kernel.accessAllowed ? 'block' : 'none';\n",
              "\n",
              "        async function convertToInteractive(key) {\n",
              "          const element = document.querySelector('#df-1144c6ad-07ac-46dd-b31b-69d8e74b7df4');\n",
              "          const dataTable =\n",
              "            await google.colab.kernel.invokeFunction('convertToInteractive',\n",
              "                                                     [key], {});\n",
              "          if (!dataTable) return;\n",
              "\n",
              "          const docLinkHtml = 'Like what you see? Visit the ' +\n",
              "            '<a target=\"_blank\" href=https://colab.research.google.com/notebooks/data_table.ipynb>data table notebook</a>'\n",
              "            + ' to learn more about interactive tables.';\n",
              "          element.innerHTML = '';\n",
              "          dataTable['output_type'] = 'display_data';\n",
              "          await google.colab.output.renderOutput(dataTable, element);\n",
              "          const docLink = document.createElement('div');\n",
              "          docLink.innerHTML = docLinkHtml;\n",
              "          element.appendChild(docLink);\n",
              "        }\n",
              "      </script>\n",
              "    </div>\n",
              "  </div>\n",
              "  "
            ]
          },
          "metadata": {},
          "execution_count": 10
        }
      ]
    },
    {
      "cell_type": "code",
      "source": [
        "ANOVA_table = pd.DataFrame()\n",
        "ANOVA_table['MedInc = 0'] = ANOVA['HouseAge'] + ANOVA['AveRooms'] + ANOVA['AveBedrms'] + intercept\n",
        "ANOVA_table['HouseAge = 0'] = ANOVA['MedInc'] + ANOVA['AveRooms'] + ANOVA['AveBedrms'] + intercept\n",
        "ANOVA_table['AveRooms = 0'] = ANOVA['MedInc'] + ANOVA['HouseAge'] + ANOVA['AveBedrms'] + intercept\n",
        "ANOVA_table['AveBedrms = 0'] = ANOVA['MedInc'] + ANOVA['HouseAge'] + ANOVA['AveRooms'] + intercept\n",
        "ANOVA_table.to_excel('ANOVA.xlsx', sheet_name = 'New_sheet')"
      ],
      "metadata": {
        "id": "4eKKKI_p1JlN"
      },
      "execution_count": null,
      "outputs": []
    },
    {
      "cell_type": "code",
      "source": [
        "f_statistic, ANOVA_p_value = stats.f_oneway(ANOVA_table['MedInc = 0'], ANOVA_table['HouseAge = 0'], ANOVA_table['AveRooms = 0'], ANOVA_table['AveBedrms = 0'])"
      ],
      "metadata": {
        "id": "Gz_wha2hudNY"
      },
      "execution_count": null,
      "outputs": []
    },
    {
      "cell_type": "code",
      "source": [
        "print(f'f_statistic: {f_statistic}')\n",
        "print(f'p_value: {ANOVA_p_value}')\n",
        "\n",
        "if ANOVA_p_value > threshold:\n",
        "  print(f'p_value is greater than {threshold} therefore we reject the alternative hyptothesis and accept the null hypothesis.')\n",
        "else:\n",
        "  print(f'p_value is less than {threshold} therefore we accept the alternative hyptothesis and reject the null hypothesis.')"
      ],
      "metadata": {
        "colab": {
          "base_uri": "https://localhost:8080/"
        },
        "id": "vMPtHsLTvN-2",
        "outputId": "153cb92a-9f09-4de7-cdf9-13d76287bd12"
      },
      "execution_count": null,
      "outputs": [
        {
          "output_type": "stream",
          "name": "stdout",
          "text": [
            "f_statistic: 379.6965398705166\n",
            "p_value: 4.948612982242282e-153\n",
            "p_value is less than 0.05 therefore we accept the alternative hyptothesis and reject the null hypothesis.\n"
          ]
        }
      ]
    },
    {
      "cell_type": "markdown",
      "source": [
        "this means that not every feature is statistically equal to one another."
      ],
      "metadata": {
        "id": "VLEsGE1kUn_f"
      }
    },
    {
      "cell_type": "code",
      "source": [
        "print(stats.ttest_ind(ANOVA_table['MedInc = 0'], ANOVA_table['HouseAge = 0'], alternative='two-sided'))\n",
        "print(stats.ttest_ind(ANOVA_table['MedInc = 0'], ANOVA_table['AveRooms = 0'], alternative='two-sided'))\n",
        "print(stats.ttest_ind(ANOVA_table['MedInc = 0'], ANOVA_table['AveBedrms = 0'], alternative='two-sided'))\n",
        "\n",
        "print(stats.ttest_ind(ANOVA_table['HouseAge = 0'], ANOVA_table['AveRooms = 0'], alternative='two-sided'))\n",
        "print(stats.ttest_ind(ANOVA_table['HouseAge = 0'], ANOVA_table['AveBedrms = 0'], alternative='two-sided'))\n",
        "\n",
        "print(stats.ttest_ind(ANOVA_table['AveRooms = 0'], ANOVA_table['AveBedrms = 0'], alternative='two-sided'))"
      ],
      "metadata": {
        "colab": {
          "base_uri": "https://localhost:8080/"
        },
        "id": "MWLyF_UP3eMq",
        "outputId": "4cbeca88-8756-4122-b9cf-0cc072aec207"
      },
      "execution_count": null,
      "outputs": [
        {
          "output_type": "stream",
          "name": "stdout",
          "text": [
            "Ttest_indResult(statistic=-28.953565266184732, pvalue=5.358330767958238e-100)\n",
            "Ttest_indResult(statistic=-38.26486440990877, pvalue=1.9730782351612314e-135)\n",
            "Ttest_indResult(statistic=-23.293256755394207, pvalue=2.4646976979832037e-76)\n",
            "Ttest_indResult(statistic=-8.036187444377521, pvalue=1.0648953659758067e-14)\n",
            "Ttest_indResult(statistic=4.14090399261611, pvalue=4.226223800134049e-05)\n",
            "Ttest_indResult(statistic=12.071207353603638, pvalue=8.370178297999249e-29)\n"
          ]
        }
      ]
    },
    {
      "cell_type": "markdown",
      "source": [
        "none of the p values are greater than 0.05 therefore we reject the null hypothesis for every feature when one is set to 0. meaning none of them are statistically equal to one another."
      ],
      "metadata": {
        "id": "GJG61_snWMkR"
      }
    }
  ]
}